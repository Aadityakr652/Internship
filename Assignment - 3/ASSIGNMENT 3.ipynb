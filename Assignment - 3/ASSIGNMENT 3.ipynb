{
 "cells": [
  {
   "cell_type": "markdown",
   "id": "29ecff4e",
   "metadata": {},
   "source": [
    "# Assignment - 3"
   ]
  },
  {
   "cell_type": "code",
   "execution_count": 1,
   "id": "b8de126c",
   "metadata": {},
   "outputs": [],
   "source": [
    "#Importing necessary libraries \n",
    "import selenium\n",
    "from selenium import webdriver as wd\n",
    "from selenium.webdriver.common.by import By\n",
    "from selenium.common.exceptions import NoSuchElementException \n",
    "import time\n",
    "import warnings\n",
    "warnings.filterwarnings('ignore')\n",
    "import pandas as pd\n",
    "\n",
    "# Setting up the WebDriver options in order to use brave\n",
    "brave_path=r'C:\\Program Files\\BraveSoftware\\Brave-Browser\\Application\\brave.exe'\n",
    "options=wd.ChromeOptions()\n",
    "options.binary_location=brave_path\n",
    "driver_path=r'D:\\Files\\chromedriver.exe' \n",
    "options.add_argument(\"--incognito\")  # Opening browser in incognito mode"
   ]
  },
  {
   "cell_type": "markdown",
   "id": "c9177511",
   "metadata": {},
   "source": [
    "## Q1"
   ]
  },
  {
   "cell_type": "code",
   "execution_count": 180,
   "id": "3b8ab988",
   "metadata": {},
   "outputs": [
    {
     "name": "stdout",
     "output_type": "stream",
     "text": [
      "Please enter the product name: one piece action figures\n"
     ]
    }
   ],
   "source": [
    "_input=input(str(\"Please enter the product name: \")) #Taking input from the user in the string format\n",
    "\n",
    "# Connecting to the driver\n",
    "dr=wd.Chrome(executable_path=driver_path, options=options)\n",
    "#Opening the website on automated brave browser\n",
    "dr.get('https://www.amazon.in/')"
   ]
  },
  {
   "cell_type": "code",
   "execution_count": 181,
   "id": "a1ff9c7b",
   "metadata": {},
   "outputs": [],
   "source": [
    "dr.find_element(By.XPATH,\"/html/body/div[1]/header/div/div[1]/div[2]/div/form/div[2]/div[1]/input\").send_keys(_input) #Sending required keys to the search bar\n",
    "dr.find_element(By.ID,'nav-search-submit-button').click() #Clicking on the search button"
   ]
  },
  {
   "cell_type": "markdown",
   "id": "a0543a6b",
   "metadata": {},
   "source": [
    "## Q2"
   ]
  },
  {
   "cell_type": "code",
   "execution_count": 182,
   "id": "b78d2554",
   "metadata": {},
   "outputs": [],
   "source": [
    "#Creating empty lists for the required data\n",
    "Brand_Name=[] \n",
    "Name_of_the_Product=[] \n",
    "Price=[]\n",
    "Return_Exchange=[] \n",
    "Expected_Delivery=[] \n",
    "Availability=[]\n",
    "Product_URL=[]\n",
    "\n",
    "\n",
    "#Scraping the URL's of the products\n",
    "for a in range(0,3):#Using for loop to run it 3 times\n",
    "    for i in dr.find_elements(By.XPATH,'//a[@class=\"a-link-normal s-underline-text s-underline-link-text s-link-style a-text-normal\"]'):\n",
    "        Product_URL.append(i.get_attribute('href'))#Appending URLs of products\n",
    "    \n",
    "    dr.find_element(By.XPATH,'//a[@class=\"s-pagination-item s-pagination-next s-pagination-button s-pagination-separator\"]').click()#Clicking on the next button\n",
    "   \n",
    "    #Adding delay to allow the website to load and update the content\n",
    "    time.sleep(3)"
   ]
  },
  {
   "cell_type": "code",
   "execution_count": 183,
   "id": "dc88ac88",
   "metadata": {},
   "outputs": [],
   "source": [
    "for i in Product_URL: #Iterating through Products's URL in order to scrape their data\n",
    "    dr.get(i)\n",
    "    try: #handling exceptions\n",
    "\n",
    "            Brand_Name.append(dr.find_element(By.XPATH,'//body[@class=\"a-aui_72554-c a-aui_accordion_a11y_role_354025-t1 a-aui_killswitch_csa_logger_372963-c a-aui_pci_risk_banner_210084-c a-aui_preload_261698-c a-aui_rel_noreferrer_noopener_309527-c a-aui_template_weblab_cache_333406-c a-aui_tnr_v2_180836-c a-meter-animate\"]/div[2]/div[2]/div[7]/div[3]/div[4]/div[42]/div/div[1]/div/table/tbody/tr[2]/td[2]/span').text)#Appending Brand Name of the product\n",
    "    except NoSuchElementException:\n",
    "        Brand_Name.append('-')#Appending '-' if data is not found\n",
    "    \n",
    "    try:#handling exceptions\n",
    "        Name_of_the_Product.append(dr.find_element(By.XPATH,'//body[@class=\"a-aui_72554-c a-aui_accordion_a11y_role_354025-t1 a-aui_killswitch_csa_logger_372963-c a-aui_pci_risk_banner_210084-c a-aui_preload_261698-c a-aui_rel_noreferrer_noopener_309527-c a-aui_template_weblab_cache_333406-c a-aui_tnr_v2_180836-c a-meter-animate\"]/div[2]/div[2]/div[7]/div[3]/div[4]/div[1]/div/h1/span').text)#Appending Name of the product\n",
    "    except NoSuchElementException:\n",
    "        Name_of_the_Product.append('-')#Appending '-' if data is not found\n",
    "        \n",
    "    try:#handling exceptions\n",
    "        Price.append(dr.find_element(By.XPATH,'//body[@class=\"a-aui_72554-c a-aui_accordion_a11y_role_354025-t1 a-aui_killswitch_csa_logger_372963-c a-aui_pci_risk_banner_210084-c a-aui_preload_261698-c a-aui_rel_noreferrer_noopener_309527-c a-aui_template_weblab_cache_333406-c a-aui_tnr_v2_180836-c a-meter-animate\"]/div[2]/div[2]/div[7]/div[3]/div[1]/div[3]/div/div[1]/div/div/div/form/div/div/div/div/div[2]/div[1]/div/span[1]/span[2]/span[2]').text)#Appending Price of the product\n",
    "    except NoSuchElementException:\n",
    "        Price.append('-')#Appending '-' if data is not found\n",
    "        \n",
    "    try:#handling exceptions\n",
    "        Return_Exchange.append(dr.find_element(By.XPATH,'//body[@class=\"a-aui_72554-c a-aui_accordion_a11y_role_354025-t1 a-aui_killswitch_csa_logger_372963-c a-aui_pci_risk_banner_210084-c a-aui_preload_261698-c a-aui_rel_noreferrer_noopener_309527-c a-aui_template_weblab_cache_333406-c a-aui_tnr_v2_180836-c a-meter-animate\"]/div[2]/div[2]/div[7]/div[3]/div[4]/div[24]/div[2]/div/div/div/div[2]/div/ol/li[3]/div/span/div[2]/span').text)#Appending Return Exchange of the product\n",
    "    except NoSuchElementException:\n",
    "        Return_Exchange.append('-')#Appending '-' if data is not found\n",
    "        \n",
    "    try:#handling exceptions    \n",
    "        Expected_Delivery.append(dr.find_element(By.XPATH,'//body[@class=\"a-aui_72554-c a-aui_accordion_a11y_role_354025-t1 a-aui_killswitch_csa_logger_372963-c a-aui_pci_risk_banner_210084-c a-aui_preload_261698-c a-aui_rel_noreferrer_noopener_309527-c a-aui_template_weblab_cache_333406-c a-aui_tnr_v2_180836-c a-meter-animate\"]/div[2]/div[2]/div[7]/div[3]/div[1]/div[3]/div/div[1]/div/div/div/form/div/div/div/div/div[3]/div/div[2]/div[9]/div[1]/div/div/div/span/span[1]').text)#Appending Expected Delivery of the product\n",
    "    except NoSuchElementException:#Appending '-' if data is not found\n",
    "        Expected_Delivery.append('-')\n",
    "    \n",
    "    try:#handling exceptions\n",
    "        Availability.append(dr.find_element(By.XPATH,'//body[@class=\"a-aui_72554-c a-aui_accordion_a11y_role_354025-t1 a-aui_killswitch_csa_logger_372963-c a-aui_pci_risk_banner_210084-c a-aui_preload_261698-c a-aui_rel_noreferrer_noopener_309527-c a-aui_template_weblab_cache_333406-c a-aui_tnr_v2_180836-c a-meter-animate\"]/div[2]/div[2]/div[7]/div[3]/div[1]/div[3]/div/div[1]/div/div/div/form/div/div/div/div/div[3]/div/div[4]/div/div[1]/span').text)#Appending Availability of the product\n",
    "    except NoSuchElementException:\n",
    "        Availability.append('-')#Appending '-' if data is not found\n",
    "    time.sleep(1) \n",
    "    \n",
    "dr.close() #Closing the automated  browser"
   ]
  },
  {
   "cell_type": "code",
   "execution_count": 186,
   "id": "8f6af26f",
   "metadata": {},
   "outputs": [
    {
     "data": {
      "text/html": [
       "<div>\n",
       "<style scoped>\n",
       "    .dataframe tbody tr th:only-of-type {\n",
       "        vertical-align: middle;\n",
       "    }\n",
       "\n",
       "    .dataframe tbody tr th {\n",
       "        vertical-align: top;\n",
       "    }\n",
       "\n",
       "    .dataframe thead th {\n",
       "        text-align: right;\n",
       "    }\n",
       "</style>\n",
       "<table border=\"1\" class=\"dataframe\">\n",
       "  <thead>\n",
       "    <tr style=\"text-align: right;\">\n",
       "      <th></th>\n",
       "      <th>Brand name</th>\n",
       "      <th>Name of the Product</th>\n",
       "      <th>Price</th>\n",
       "      <th>Return Exchange</th>\n",
       "      <th>Expected Delivery</th>\n",
       "      <th>Availability</th>\n",
       "    </tr>\n",
       "  </thead>\n",
       "  <tbody>\n",
       "    <tr>\n",
       "      <th>0</th>\n",
       "      <td>-</td>\n",
       "      <td>AUGEN One Piece Set of 6 D Action Figure Limit...</td>\n",
       "      <td>3,749</td>\n",
       "      <td>7 days Replacement</td>\n",
       "      <td>Wednesday, 14 June</td>\n",
       "      <td>In stock</td>\n",
       "    </tr>\n",
       "    <tr>\n",
       "      <th>1</th>\n",
       "      <td>-</td>\n",
       "      <td>Kawaii Kart | Gear Fourth Monkey D. Luffy Acti...</td>\n",
       "      <td>1,499</td>\n",
       "      <td>-</td>\n",
       "      <td>Wednesday, 14 June</td>\n",
       "      <td>In stock</td>\n",
       "    </tr>\n",
       "    <tr>\n",
       "      <th>2</th>\n",
       "      <td>-</td>\n",
       "      <td>AUGEN One Piece Set of 12 Action Figure Limite...</td>\n",
       "      <td>3,149</td>\n",
       "      <td>7 days Replacement</td>\n",
       "      <td>Wednesday, 14 June</td>\n",
       "      <td>In stock</td>\n",
       "    </tr>\n",
       "    <tr>\n",
       "      <th>3</th>\n",
       "      <td>-</td>\n",
       "      <td>AUGEN One Piece 2 Side Set of 8 Action Figures...</td>\n",
       "      <td>4,799</td>\n",
       "      <td>7 days Replacement</td>\n",
       "      <td>Wednesday, 14 June</td>\n",
       "      <td>In stock</td>\n",
       "    </tr>\n",
       "    <tr>\n",
       "      <th>4</th>\n",
       "      <td>-</td>\n",
       "      <td>Tinion||ONE Piece- Roronoa Zoro- HIGH Detailed...</td>\n",
       "      <td>1,249</td>\n",
       "      <td>7 days Replacement</td>\n",
       "      <td>Sunday, 11 June</td>\n",
       "      <td>In stock</td>\n",
       "    </tr>\n",
       "    <tr>\n",
       "      <th>...</th>\n",
       "      <td>...</td>\n",
       "      <td>...</td>\n",
       "      <td>...</td>\n",
       "      <td>...</td>\n",
       "      <td>...</td>\n",
       "      <td>...</td>\n",
       "    </tr>\n",
       "    <tr>\n",
       "      <th>175</th>\n",
       "      <td>-</td>\n",
       "      <td>Trunkin | One Piece Roronoa Zoro Action Figure...</td>\n",
       "      <td>2,299</td>\n",
       "      <td>7 days Replacement</td>\n",
       "      <td>Wednesday, 14 June</td>\n",
       "      <td>In stock</td>\n",
       "    </tr>\n",
       "    <tr>\n",
       "      <th>176</th>\n",
       "      <td>-</td>\n",
       "      <td>AUGEN Monkey D Luffy 13 Action Figure Limited ...</td>\n",
       "      <td>1,349</td>\n",
       "      <td>7 days Replacement</td>\n",
       "      <td>Wednesday, 14 June</td>\n",
       "      <td>In stock</td>\n",
       "    </tr>\n",
       "    <tr>\n",
       "      <th>177</th>\n",
       "      <td>-</td>\n",
       "      <td>Buko Fan Edition Lifestyle One Piece Anime Key...</td>\n",
       "      <td>395</td>\n",
       "      <td>-</td>\n",
       "      <td>Wednesday, 14 June</td>\n",
       "      <td>In stock</td>\n",
       "    </tr>\n",
       "    <tr>\n",
       "      <th>178</th>\n",
       "      <td>-</td>\n",
       "      <td>AUGEN Monkey D Luffy 11 Action Figure Limited ...</td>\n",
       "      <td>1,649</td>\n",
       "      <td>7 days Replacement</td>\n",
       "      <td>Wednesday, 14 June</td>\n",
       "      <td>In stock</td>\n",
       "    </tr>\n",
       "    <tr>\n",
       "      <th>179</th>\n",
       "      <td>-</td>\n",
       "      <td>AUGEN Monkey D Luffy 12 Action Figure Limited ...</td>\n",
       "      <td>2,349</td>\n",
       "      <td>7 days Replacement</td>\n",
       "      <td>Wednesday, 14 June</td>\n",
       "      <td>In stock</td>\n",
       "    </tr>\n",
       "  </tbody>\n",
       "</table>\n",
       "<p>180 rows × 6 columns</p>\n",
       "</div>"
      ],
      "text/plain": [
       "    Brand name                                Name of the Product  Price  \\\n",
       "0            -  AUGEN One Piece Set of 6 D Action Figure Limit...  3,749   \n",
       "1            -  Kawaii Kart | Gear Fourth Monkey D. Luffy Acti...  1,499   \n",
       "2            -  AUGEN One Piece Set of 12 Action Figure Limite...  3,149   \n",
       "3            -  AUGEN One Piece 2 Side Set of 8 Action Figures...  4,799   \n",
       "4            -  Tinion||ONE Piece- Roronoa Zoro- HIGH Detailed...  1,249   \n",
       "..         ...                                                ...    ...   \n",
       "175          -  Trunkin | One Piece Roronoa Zoro Action Figure...  2,299   \n",
       "176          -  AUGEN Monkey D Luffy 13 Action Figure Limited ...  1,349   \n",
       "177          -  Buko Fan Edition Lifestyle One Piece Anime Key...    395   \n",
       "178          -  AUGEN Monkey D Luffy 11 Action Figure Limited ...  1,649   \n",
       "179          -  AUGEN Monkey D Luffy 12 Action Figure Limited ...  2,349   \n",
       "\n",
       "        Return Exchange   Expected Delivery Availability  \n",
       "0    7 days Replacement  Wednesday, 14 June     In stock  \n",
       "1                     -  Wednesday, 14 June     In stock  \n",
       "2    7 days Replacement  Wednesday, 14 June     In stock  \n",
       "3    7 days Replacement  Wednesday, 14 June     In stock  \n",
       "4    7 days Replacement     Sunday, 11 June     In stock  \n",
       "..                  ...                 ...          ...  \n",
       "175  7 days Replacement  Wednesday, 14 June     In stock  \n",
       "176  7 days Replacement  Wednesday, 14 June     In stock  \n",
       "177                   -  Wednesday, 14 June     In stock  \n",
       "178  7 days Replacement  Wednesday, 14 June     In stock  \n",
       "179  7 days Replacement  Wednesday, 14 June     In stock  \n",
       "\n",
       "[180 rows x 6 columns]"
      ]
     },
     "execution_count": 186,
     "metadata": {},
     "output_type": "execute_result"
    }
   ],
   "source": [
    "#Creating Data Frame\n",
    "df_1=pd.DataFrame({'Brand name':Brand_Name,'Name of the Product':Name_of_the_Product,'Price':Price,\"Return Exchange\":Return_Exchange,'Expected Delivery':Expected_Delivery,'Availability':Availability})\n",
    "df_1"
   ]
  },
  {
   "cell_type": "code",
   "execution_count": 190,
   "id": "0682ed42",
   "metadata": {},
   "outputs": [],
   "source": [
    "#Exporting data frame as csv\n",
    "df_1.to_csv(r'D:\\Data\\df_1.csv',index=False)"
   ]
  },
  {
   "cell_type": "markdown",
   "id": "35e0e5db",
   "metadata": {},
   "source": [
    "## Q3"
   ]
  },
  {
   "cell_type": "code",
   "execution_count": 171,
   "id": "604e50d4",
   "metadata": {},
   "outputs": [],
   "source": [
    "# Connecting to the driver\n",
    "dr=wd.Chrome(executable_path=driver_path, options=options)\n",
    "#Opening the website on automated brave browser\n",
    "dr.get('https://www.google.com/')\n",
    "\n",
    "#Creating list with desired keywords\n",
    "keywords=['fruits', 'cars and Machine Learning', 'Guitar', 'Cakes']"
   ]
  },
  {
   "cell_type": "code",
   "execution_count": 3,
   "id": "9d8ffaaf",
   "metadata": {},
   "outputs": [],
   "source": [
    "dr.find_element(By.CLASS_NAME,\"gLFyf\").send_keys('temp') #Sending temporary keyword on the search bar\n",
    "    \n",
    "dr.find_element(By.XPATH,\"/html/body/div[1]/div[3]/form/div[1]/div[1]/div[4]/center/input[1]\").click() #Clicking on the search button "
   ]
  },
  {
   "cell_type": "code",
   "execution_count": 5,
   "id": "a2f5ab04",
   "metadata": {},
   "outputs": [],
   "source": [
    "dr.find_element(By.XPATH,'/html/body/div[6]/div/div[3]/div/div/div/div[1]/div/a[2]').click() # Clicking on the images tab"
   ]
  },
  {
   "cell_type": "code",
   "execution_count": 172,
   "id": "5538857c",
   "metadata": {},
   "outputs": [],
   "source": [
    "#Creating empty lists for the required data\n",
    "url=[]\n",
    "fruits=[] \n",
    "cars_and_Machine_Learning=[] \n",
    "Guitar=[] \n",
    "Cakes=[]\n",
    "shift=0#Initilizing variable\n",
    "#Scraping URLs of the images\n",
    "for i in keywords: #Creating for loop in order to iterate keywords and fetch urls of images\n",
    "    \n",
    "    shift+=1 #Assigning and increasing the value to 1 to itself\n",
    "    \n",
    "    dr.find_element(By.CLASS_NAME,\"og3lId\").clear() #Clearing the search bar\n",
    "    \n",
    "    dr.find_element(By.CLASS_NAME,\"og3lId\").send_keys(i) #Sending keywords on the search bar\n",
    "    \n",
    "    dr.find_element(By.XPATH,'//button[@class=\"rCGXm\"]/div/span').click() #Clicking on the search button \n",
    "    \n",
    "    if shift==1:#Using if,elif and else in order to change the value of dynamic value  of 'zero'  variable\n",
    "        zero=fruits\n",
    "    elif shift==2:\n",
    "        zero=cars_and_Machine_Learning\n",
    "    elif shift==3:\n",
    "        zero=Guitar\n",
    "    else:\n",
    "        zero=Cakes\n",
    "        \n",
    "    #Auto scrolling in order to load the images\n",
    "    for l in range(100):\n",
    "        dr.execute_script('window.scrollBy(0,100)')\n",
    "    \n",
    "    for x in dr.find_elements(By.XPATH,'//img[@class=\"rg_i Q4LuWd\"]'): \n",
    "        source=x.get_attribute('src')\n",
    "        if source is not None:\n",
    "            if( source [0:4]=='http'):\n",
    "                zero.append(source)\n",
    "    time.sleep(3)#Adding delay to allow the website to load and update the content"
   ]
  },
  {
   "cell_type": "code",
   "execution_count": 173,
   "id": "7b48f41c",
   "metadata": {},
   "outputs": [
    {
     "data": {
      "text/plain": [
       "(10, 10, 10, 10)"
      ]
     },
     "execution_count": 173,
     "metadata": {},
     "output_type": "execute_result"
    }
   ],
   "source": [
    "#Slicing the data as per the requirements\n",
    "fruits=fruits[0:10]\n",
    "cars_and_Machine_Learning=cars_and_Machine_Learning[0:10]\n",
    "Guitar=Guitar[0:10]    \n",
    "Cakes=Cakes[0:10]    \n",
    "len(fruits),len(cars_and_Machine_Learning),len(Guitar),len(Cakes) #Checking the length"
   ]
  },
  {
   "cell_type": "code",
   "execution_count": 175,
   "id": "e07830a5",
   "metadata": {},
   "outputs": [],
   "source": [
    "#Downloading the images to the local system\n",
    "import requests\n",
    "shift=0#Initilizing variable\n",
    "for i in range(0,4): #Running loop for 4 times\n",
    "    \n",
    "    shift+=1#Assigning and increasing the value to 1 to itself\n",
    "    \n",
    "    if shift==1:#Using if,elif and else in order to change the value of dynamic value  of 'zero' and 'alpha' variables \n",
    "        zero=fruits\n",
    "        alpha='fruits'\n",
    "    elif shift==2:\n",
    "        zero=cars_and_Machine_Learning\n",
    "        alpha='cars_and_Machine_Learning'\n",
    "    elif shift==3:\n",
    "        zero=Guitar\n",
    "        alpha='Guitar'\n",
    "    else:\n",
    "        zero=Cakes\n",
    "        alpha='Cakes'\n",
    "        \n",
    "    for a in range(len(zero)):\n",
    "        file_name = r\"D:/Images/\" + alpha + \"_\" + str(a) + \".jpg\"\n",
    "        x=open(file_name,'wb')\n",
    "        x.write(requests.get(zero[a]).content)\n",
    "x.close()#Closing the file\n",
    "dr.close() #Closing the automated  browser"
   ]
  },
  {
   "cell_type": "markdown",
   "id": "bf854a09",
   "metadata": {},
   "source": [
    "## Q4"
   ]
  },
  {
   "cell_type": "code",
   "execution_count": 32,
   "id": "ca5a91ad",
   "metadata": {},
   "outputs": [],
   "source": [
    "# Connecting to the driver\n",
    "dr=wd.Chrome(executable_path=driver_path, options=options)\n",
    "#Opening the website on automated brave browser\n",
    "dr.get('https://www.flipkart.com/')"
   ]
  },
  {
   "cell_type": "code",
   "execution_count": 33,
   "id": "cc1226a8",
   "metadata": {},
   "outputs": [],
   "source": [
    "#Closing the login tab\n",
    "dr.find_element(By.XPATH,\"/html/body/div[2]/div/div/button\").click()\n",
    "\n",
    "# Sending \"Oneplus Nord\" key to the search field\n",
    "dr.find_element(By.XPATH,'/html/body/div[1]/div/div[1]/div[1]/div[2]/div[2]/form/div/div/input').send_keys('pixel 4A')\n",
    " \n",
    "\n",
    "#Clicking on the search button\n",
    "dr.find_element(By.CLASS_NAME,\"L0Z3Pu\").click()"
   ]
  },
  {
   "cell_type": "code",
   "execution_count": 34,
   "id": "fd8699e2",
   "metadata": {},
   "outputs": [],
   "source": [
    "#Creating empty lists for the required data\n",
    "brand=[] \n",
    "product=[] \n",
    "color=[]\n",
    "s_Price=[]\n",
    "RAM=[] \n",
    "storage=[] \n",
    "P_camera=[]\n",
    "S_camera=[]\n",
    "smartphone_URL=[]\n",
    "display=[]\n",
    "battery=[]"
   ]
  },
  {
   "cell_type": "code",
   "execution_count": 35,
   "id": "1d043ef1",
   "metadata": {},
   "outputs": [],
   "source": [
    "#Scraping the URL's of the products\n",
    "for i in dr.find_elements(By.XPATH,'//a[@class=\"_1fQZEK\"]'):\n",
    "    smartphone_URL.append(i.get_attribute('href'))#Appending URLs of products"
   ]
  },
  {
   "cell_type": "code",
   "execution_count": 36,
   "id": "99e62389",
   "metadata": {},
   "outputs": [],
   "source": [
    "for i in smartphone_URL: #Iterating through Products's URL in order to scrape their data\n",
    "    dr.get(i)\n",
    "     \n",
    "    try:#handling exceptions\n",
    "        product.append(dr.find_element(By.CLASS_NAME,\"B_NuCI\").text.split('(')[0])#Appending Name of the product\n",
    "    except NoSuchElementException:\n",
    "        product.append('-')#Appending '-' if data is not found\n",
    "        \n",
    "    try:#handling exceptions\n",
    "        s_Price.append(dr.find_element(By.CLASS_NAME,'_30jeq3 _16Jk6d').text)#Appending Price of the product\n",
    "    except NoSuchElementException:\n",
    "        s_Price.append('-')#Appending '-' if data is not found\n",
    "    \n",
    "    try:#handling exceptions\n",
    "        RAM.append(dr.find_element(By.XPATH,'//div[@class=\"_2c7YLP UtUXW0 _6t1WkM _3HqJxg\"]/div[1]/div[2]/div[10]/div[5]/div/div[2]/div[1]/div[4]/table/tbody/tr[2]/td[2]/ul/li').text)#Appending  of the product\n",
    "    except NoSuchElementException:\n",
    "        RAM.append('-')#Appending '-' if data is not found\n",
    "        \n",
    "    try:#handling exceptions\n",
    "        storage.append(dr.find_element(By.XPATH,'//div[@class=\"_2c7YLP UtUXW0 _6t1WkM _3HqJxg\"]/div[1]/div[2]/div[10]/div[5]/div/div[2]/div[1]/div[4]/table/tbody/tr[1]/td[2]/ul/li').text)#Appending Storage  of the product\n",
    "    except NoSuchElementException:\n",
    "        storage.append('-')#Appending '-' if data is not found\n",
    "    \n",
    "    try:#handling exceptions\n",
    "        P_camera.append(dr.find_element(By.XPATH,'//div[@class=\"_2c7YLP UtUXW0 _6t1WkM _3HqJxg\"]/div[1]/div[2]/div[10]/div[5]/div/div[2]/div[1]/div[5]/table/tbody/tr[2]/td[2]/ul/li').text)#Appending Primary camera of the product\n",
    "    except NoSuchElementException:\n",
    "        P_camera.append('-')#Appending '-' if data is not found\n",
    "        \n",
    "    try:#handling exceptions\n",
    "        S_camera.append(dr.find_element(By.XPATH,'//div[@class=\"_2c7YLP UtUXW0 _6t1WkM _3HqJxg\"]/div[1]/div[2]/div[10]/div[5]/div/div[2]/div[1]/div[5]/table/tbody/tr[5]/td[2]/ul/li').text)#Appending Secondary camera of the product\n",
    "    except NoSuchElementException:\n",
    "        S_camera.append('-')#Appending '-' if data is not found\n",
    "    \n",
    "    try:#handling exceptions\n",
    "        display.append(dr.find_element(By.XPATH,'//div[@class=\"_2c7YLP UtUXW0 _6t1WkM _3HqJxg\"]/div[1]/div[2]/div[10]/div[5]/div/div[2]/div[1]/div[2]/table/tbody/tr[1]/td[2]/ul/li').text)#Appending Display size of the product\n",
    "    except NoSuchElementException:\n",
    "        display.append('-')#Appending '-' if data is not found\n",
    "        \n",
    "    try:#handling exceptions\n",
    "        battery.append(dr.find_element(By.XPATH,'//div[@class=\"_2c7YLP UtUXW0 _6t1WkM _3HqJxg\"]/div[1]/div[2]/div[10]/div[5]/div/div[2]/div[1]/div[10]/table/tbody/tr/td[2]/ul/li').text)#Appending Battery capacity of the product\n",
    "    except NoSuchElementException:\n",
    "        battery.append('-')#Appending '-' if data is not found\n",
    "        \n",
    "    try:#handling exceptions\n",
    "        x=dr.find_element(By.CLASS_NAME,'B_NuCI').text.split('(')[1]#Appending  of the product\n",
    "        x=x.split(\",\")[0]\n",
    "        color.append(x)\n",
    "    except NoSuchElementException:\n",
    "        color.append('-')#Appending '-' if data is not found\n",
    "     \n",
    "    try:#handling exceptions\n",
    "        brand.append(dr.find_element(By.CLASS_NAME,\"B_NuCI\").text.split(' ')[0])#Appending  of the product\n",
    "    except NoSuchElementException:\n",
    "        brand.append('-')#Appending '-' if data is not found\n",
    "    \n",
    "dr.close() #Closing the automated  browser    "
   ]
  },
  {
   "cell_type": "code",
   "execution_count": 37,
   "id": "77c4d0ba",
   "metadata": {},
   "outputs": [
    {
     "data": {
      "text/html": [
       "<div>\n",
       "<style scoped>\n",
       "    .dataframe tbody tr th:only-of-type {\n",
       "        vertical-align: middle;\n",
       "    }\n",
       "\n",
       "    .dataframe tbody tr th {\n",
       "        vertical-align: top;\n",
       "    }\n",
       "\n",
       "    .dataframe thead th {\n",
       "        text-align: right;\n",
       "    }\n",
       "</style>\n",
       "<table border=\"1\" class=\"dataframe\">\n",
       "  <thead>\n",
       "    <tr style=\"text-align: right;\">\n",
       "      <th></th>\n",
       "      <th>Brand Name</th>\n",
       "      <th>Smartphone name</th>\n",
       "      <th>Color</th>\n",
       "      <th>RAM</th>\n",
       "      <th>Storage</th>\n",
       "      <th>Primary Camera</th>\n",
       "      <th>Secondary Camera</th>\n",
       "      <th>Display Size</th>\n",
       "      <th>Battery Capacity</th>\n",
       "      <th>Price</th>\n",
       "      <th>Product URL</th>\n",
       "    </tr>\n",
       "  </thead>\n",
       "  <tbody>\n",
       "    <tr>\n",
       "      <th>0</th>\n",
       "      <td>Google</td>\n",
       "      <td>Google Pixel 6a</td>\n",
       "      <td>Charcoal</td>\n",
       "      <td>-</td>\n",
       "      <td>-</td>\n",
       "      <td>-</td>\n",
       "      <td>-</td>\n",
       "      <td>-</td>\n",
       "      <td>-</td>\n",
       "      <td>-</td>\n",
       "      <td>https://www.flipkart.com/google-pixel-6a-charc...</td>\n",
       "    </tr>\n",
       "    <tr>\n",
       "      <th>1</th>\n",
       "      <td>Google</td>\n",
       "      <td>Google Pixel 6a</td>\n",
       "      <td>Chalk</td>\n",
       "      <td>-</td>\n",
       "      <td>-</td>\n",
       "      <td>-</td>\n",
       "      <td>-</td>\n",
       "      <td>-</td>\n",
       "      <td>-</td>\n",
       "      <td>-</td>\n",
       "      <td>https://www.flipkart.com/google-pixel-6a-chalk...</td>\n",
       "    </tr>\n",
       "    <tr>\n",
       "      <th>2</th>\n",
       "      <td>Google</td>\n",
       "      <td>Google Pixel 3A</td>\n",
       "      <td>Just Black</td>\n",
       "      <td>-</td>\n",
       "      <td>-</td>\n",
       "      <td>-</td>\n",
       "      <td>-</td>\n",
       "      <td>-</td>\n",
       "      <td>-</td>\n",
       "      <td>-</td>\n",
       "      <td>https://www.flipkart.com/google-pixel-3a-just-...</td>\n",
       "    </tr>\n",
       "    <tr>\n",
       "      <th>3</th>\n",
       "      <td>Google</td>\n",
       "      <td>Google Pixel 3A</td>\n",
       "      <td>Purple-ish</td>\n",
       "      <td>-</td>\n",
       "      <td>-</td>\n",
       "      <td>-</td>\n",
       "      <td>-</td>\n",
       "      <td>-</td>\n",
       "      <td>-</td>\n",
       "      <td>-</td>\n",
       "      <td>https://www.flipkart.com/google-pixel-3a-purpl...</td>\n",
       "    </tr>\n",
       "    <tr>\n",
       "      <th>4</th>\n",
       "      <td>Google</td>\n",
       "      <td>Google Pixel 3</td>\n",
       "      <td>Not Pink</td>\n",
       "      <td>-</td>\n",
       "      <td>-</td>\n",
       "      <td>-</td>\n",
       "      <td>-</td>\n",
       "      <td>-</td>\n",
       "      <td>-</td>\n",
       "      <td>-</td>\n",
       "      <td>https://www.flipkart.com/google-pixel-3-not-pi...</td>\n",
       "    </tr>\n",
       "  </tbody>\n",
       "</table>\n",
       "</div>"
      ],
      "text/plain": [
       "  Brand Name   Smartphone name       Color RAM Storage Primary Camera  \\\n",
       "0     Google  Google Pixel 6a     Charcoal   -       -              -   \n",
       "1     Google  Google Pixel 6a        Chalk   -       -              -   \n",
       "2     Google  Google Pixel 3A   Just Black   -       -              -   \n",
       "3     Google  Google Pixel 3A   Purple-ish   -       -              -   \n",
       "4     Google   Google Pixel 3     Not Pink   -       -              -   \n",
       "\n",
       "  Secondary Camera Display Size Battery Capacity Price  \\\n",
       "0                -            -                -     -   \n",
       "1                -            -                -     -   \n",
       "2                -            -                -     -   \n",
       "3                -            -                -     -   \n",
       "4                -            -                -     -   \n",
       "\n",
       "                                         Product URL  \n",
       "0  https://www.flipkart.com/google-pixel-6a-charc...  \n",
       "1  https://www.flipkart.com/google-pixel-6a-chalk...  \n",
       "2  https://www.flipkart.com/google-pixel-3a-just-...  \n",
       "3  https://www.flipkart.com/google-pixel-3a-purpl...  \n",
       "4  https://www.flipkart.com/google-pixel-3-not-pi...  "
      ]
     },
     "execution_count": 37,
     "metadata": {},
     "output_type": "execute_result"
    }
   ],
   "source": [
    "#Creating the Date Frame\n",
    "df_2=pd.DataFrame({'Brand Name':brand,'Smartphone name':product,\"Color\":color,\"RAM\":RAM,'Storage':storage,'Primary Camera':P_camera,'Secondary Camera':S_camera,'Display Size':display,'Battery Capacity':battery,'Price':s_Price,'Product URL':smartphone_URL})\n",
    "df_2"
   ]
  },
  {
   "cell_type": "code",
   "execution_count": 38,
   "id": "fe573720",
   "metadata": {},
   "outputs": [],
   "source": [
    "#Exporting data frame as csv\n",
    "df_2.to_csv(r'D:\\Data\\df_1.csv',index=False)"
   ]
  },
  {
   "cell_type": "markdown",
   "id": "e43ab8e4",
   "metadata": {},
   "source": [
    "## Q5"
   ]
  },
  {
   "cell_type": "code",
   "execution_count": 51,
   "id": "6a44699c",
   "metadata": {},
   "outputs": [],
   "source": [
    "# Connecting to the driver\n",
    "dr=wd.Chrome(executable_path=driver_path, options=options)\n",
    "#Opening the website on automated brave browser\n",
    "dr.get('https://www.google.com/maps')"
   ]
  },
  {
   "cell_type": "code",
   "execution_count": 39,
   "id": "86028623",
   "metadata": {},
   "outputs": [],
   "source": [
    "#Sending required keys on the search bar\n",
    "dr.find_element(By.XPATH,'/html/body/div[3]/div[9]/div[3]/div[1]/div[1]/div/div[2]/form/input[1]').send_keys('Mumbai')"
   ]
  },
  {
   "cell_type": "code",
   "execution_count": 40,
   "id": "a113d920",
   "metadata": {},
   "outputs": [],
   "source": [
    "#Clicking on the first option\n",
    "dr.find_element(By.XPATH,'/html/body/div[3]/div[9]/div[3]/div[1]/div[1]/div/div[3]/div[1]/div/div/div[1]').click()"
   ]
  },
  {
   "cell_type": "code",
   "execution_count": 57,
   "id": "77abcb8b",
   "metadata": {},
   "outputs": [
    {
     "name": "stdout",
     "output_type": "stream",
     "text": [
      "Latitude:  19.0821778 \n",
      "Longitude:  72.7167191\n"
     ]
    }
   ],
   "source": [
    "#Importing re\n",
    "import re\n",
    "\n",
    "#Fetching the current URL\n",
    "url=dr.current_url\n",
    "\n",
    "#Refining the url to our requirement\n",
    "la_lo=re.findall(r\"@(.*)\",url)\n",
    "for i in la_lo:\n",
    "    la=i.split(',')[0] #Spliting data as per the requirements\n",
    "    lo=i.split(',')[1]\n",
    "\n",
    "dr.close() #Closing the automated  browser    \n",
    "print('Latitude: ',la,'\\nLongitude: ',lo)#Printing coordinates"
   ]
  },
  {
   "cell_type": "markdown",
   "id": "bef65163",
   "metadata": {},
   "source": [
    "## Q6"
   ]
  },
  {
   "cell_type": "code",
   "execution_count": 2,
   "id": "2cdc11aa",
   "metadata": {},
   "outputs": [],
   "source": [
    "# Connecting to the driver\n",
    "dr=wd.Chrome(executable_path=driver_path, options=options)\n",
    "#Opening the website on automated brave browser\n",
    "dr.get('https://www.digit.in/')"
   ]
  },
  {
   "cell_type": "code",
   "execution_count": 3,
   "id": "e413b6e9",
   "metadata": {},
   "outputs": [],
   "source": [
    "#Clicking on Laptops tab\n",
    "dr.find_element(By.XPATH,'/html/body/div[2]/div/ul/li[2]/span').click()"
   ]
  },
  {
   "cell_type": "code",
   "execution_count": 4,
   "id": "df091260",
   "metadata": {},
   "outputs": [],
   "source": [
    "#Clicking on Best tab\n",
    "dr.find_element(By.XPATH,'/html/body/div[2]/div/ul/li[2]/div[2]/div/div[1]/span[4]').click()"
   ]
  },
  {
   "cell_type": "code",
   "execution_count": 6,
   "id": "e99a75fc",
   "metadata": {},
   "outputs": [],
   "source": [
    "#Clicking on Best Gaming Laptops in India with Price and Specs tab\n",
    "dr.find_element(By.XPATH,'/html/body/div[2]/div/ul/li[2]/div[2]/div/div[5]/div/div[2]/a').click()"
   ]
  },
  {
   "cell_type": "code",
   "execution_count": 51,
   "id": "297b2eaa",
   "metadata": {},
   "outputs": [],
   "source": [
    "#Creating empty lists for the required data\n",
    "name=[] \n",
    "os=[] \n",
    "processor=[]\n",
    "price=[]\n",
    "memory=[] \n",
    "dimensions=[] \n",
    "gpu=[]\n",
    "g_url=[]\n",
    "display=[]"
   ]
  },
  {
   "cell_type": "code",
   "execution_count": 52,
   "id": "9d0c0879",
   "metadata": {},
   "outputs": [],
   "source": [
    "#Scraping URL of the products\n",
    "skip=1#Initilizing value\n",
    "for i in dr.find_elements(By.XPATH,'//div[@class=\"full-specs\"]/span[1]'):#Using slicing to scrape the desired data\n",
    "    g_url.append(i.get_attribute('data-href')) #Appending links\n",
    "   "
   ]
  },
  {
   "cell_type": "code",
   "execution_count": 53,
   "id": "fe2c8cac",
   "metadata": {},
   "outputs": [],
   "source": [
    "for i in g_url:\n",
    "    dr.get(i)\n",
    "    \n",
    "    try:#handling exceptions\n",
    "        name.append(dr.find_element(By.XPATH,\"/html/body/div[7]/div[2]/div[2]/h1\").text)#Appending name of the product\n",
    "    except NoSuchElementException:\n",
    "        name.append('-')#Appending '-' if data is not found\n",
    "        \n",
    "    try:#handling exceptions\n",
    "         os.append(dr.find_element(By.XPATH,'//div[@class=\"value\"]/p[2]/strong').text)#Appending operating system of the product\n",
    "    except NoSuchElementException:\n",
    "        os.append('-')#Appending '-' if data is not found\n",
    "    \n",
    "    try:#handling exceptions\n",
    "        processor.append(dr.find_element(By.XPATH,'//div[@class=\"specs_details \"]/ul/li[3]/div/p[2]/strong').text)\n",
    "    except NoSuchElementException:\n",
    "        processor.append('-')#Appending '-' if data is not found\n",
    "    \n",
    "    try:#handling exceptions\n",
    "        price.append(dr.find_element(By.XPATH,'//div[@class=\"price\"]/h2/strong').text)\n",
    "    except NoSuchElementException:\n",
    "        price.append('-')#Appending '-' if data is not found\n",
    "\n",
    "    try:#handling exceptions\n",
    "        memory.append(dr.find_element(By.XPATH,'//div[@class=\"specs_details \"]/ul/li[4]/div/p[2]/strong').text)\n",
    "    except NoSuchElementException:\n",
    "        memory.append('-')#Appending '-' if data is not found\n",
    "    \n",
    "    try:#handling exceptions\n",
    "        dimensions.append(dr.find_element(By.XPATH,'//div[@class=\"tabcontentother\"]/div[5]/table/tbody/tr[2]/td[3]').text)\n",
    "    except NoSuchElementException:\n",
    "        dimensions.append('-')#Appending '-' if data is not found\n",
    "    \n",
    "    try:#handling exceptions\n",
    "        gpu.append(dr.find_element(By.XPATH,'//div[@class=\"tabcontentother\"]/div[6]/table/tbody/tr[4]/td[3]').text)\n",
    "    except NoSuchElementException:\n",
    "        gpu.append('-')#Appending '-' if data is not found\n",
    "\n",
    "    try:#handling exceptions\n",
    "        display.append(dr.find_element(By.XPATH,'//div[@class=\"specs_details \"]/ul/li[2]/div/p[2]/strong').text)\n",
    "    except NoSuchElementException:\n",
    "        display.append('-')#Appending '-' if data is not found\n",
    "        \n",
    "dr.close() #Closing the automated  browser"
   ]
  },
  {
   "cell_type": "code",
   "execution_count": 59,
   "id": "0c073048",
   "metadata": {},
   "outputs": [
    {
     "data": {
      "text/plain": [
       "(7, 7, 7, 7, 7, 7, 7, 7)"
      ]
     },
     "execution_count": 59,
     "metadata": {},
     "output_type": "execute_result"
    }
   ],
   "source": [
    "len(name),len(display),len(os),len(processor),len(gpu),len(memory),len(dimensions),len(price) #Checking the length of the data"
   ]
  },
  {
   "cell_type": "markdown",
   "id": "16de1359",
   "metadata": {},
   "source": [
    "## Q7"
   ]
  },
  {
   "cell_type": "code",
   "execution_count": 2,
   "id": "61435d96",
   "metadata": {},
   "outputs": [],
   "source": [
    "# Connecting to the driver\n",
    "dr=wd.Chrome(executable_path=driver_path, options=options)\n",
    "#Opening the website on automated brave browser\n",
    "dr.get('https://www.forbes.com/?sh=498ee0412254')"
   ]
  },
  {
   "cell_type": "code",
   "execution_count": 3,
   "id": "87b478e7",
   "metadata": {},
   "outputs": [],
   "source": [
    "#Clicking on the Billionaires\n",
    "dr.find_element(By.XPATH,'/html/body/div[1]/main/section[8]/div[1]/a').click()"
   ]
  },
  {
   "cell_type": "code",
   "execution_count": 4,
   "id": "d6a8e1a2",
   "metadata": {},
   "outputs": [],
   "source": [
    "#Clicking on the The World's Billionaires List 2023 tab\n",
    "dr.find_element(By.XPATH,'/html/body/div[1]/div[2]/main/div/section/div[2]/div/div/div[1]/div/div[1]/div/div/a').click()"
   ]
  },
  {
   "cell_type": "code",
   "execution_count": 5,
   "id": "1bdb8a8a",
   "metadata": {},
   "outputs": [],
   "source": [
    "#Creating empty lists for the required data\n",
    "Rank=[] \n",
    "Name=[] \n",
    "Net_worth=[]\n",
    "Age=[] \n",
    "Citizenship=[] \n",
    "Source=[] \n",
    "Industry=[] \n",
    "\n",
    "#Scraping the required data \n",
    "for a in range(0,14): #Running the loop 14 times\n",
    "    \n",
    "    try:#handling exceptions\n",
    "        for i in dr.find_elements(By.XPATH,'//div[@class=\"Table_rank___YBhk Table_dataCell__2QCve\"]'):\n",
    "            Rank.append(i.text)#Appending Rank of the billionaires\n",
    "    except NoSuchElementException:\n",
    "        Rank.append('-')#Appending '-' if data is not found\n",
    "    \n",
    "    try:#handling exceptions\n",
    "        jump=3 #Initilizing variable\n",
    "        for i in dr.find_elements(By.XPATH,'//div[@class=\"Table_dataCell__2QCve\"]'):\n",
    "            jump+=1\n",
    "            if jump % 4==0:#Using if condition to skip undesired data\n",
    "                Name.append(i.text)#Appending Name of the billionaires\n",
    "            else:\n",
    "                continue\n",
    "    except NoSuchElementException:\n",
    "        Name.append('-')#Appending '-' if data is not found\n",
    "\n",
    "    \n",
    "    try:#handling exceptions\n",
    "        for i in dr.find_elements(By.XPATH,'//div[@class=\"Table_netWorth___L4R5 Table_dataCell__2QCve\"]'):\n",
    "            Net_worth.append(i.text)#Appending Net worth of the billionaires\n",
    "    except NoSuchElementException:\n",
    "        Net_worth.append('-')#Appending '-' if data is not found\n",
    "\n",
    "    \n",
    "    try:#handling exceptions\n",
    "        jump=0#Initilizing variable\n",
    "        for i in dr.find_elements(By.XPATH,'//div[@class=\"Table_dataCell__2QCve\"]')[1:]:\n",
    "            if jump>0:#Using if condition to skip undesired data\n",
    "                jump-=1\n",
    "                continue\n",
    "            else:\n",
    "                jump=3\n",
    "                Age.append(i.text)#Appending Age of the billionaires\n",
    "    except NoSuchElementException:\n",
    "        Age.append('-')#Appending '-' if data is not found\n",
    "\n",
    "    try:#handling exceptions\n",
    "        jump=0#Initilizing variable\n",
    "        for i in dr.find_elements(By.XPATH,'//div[@class=\"TableRow_cell__db-hv Table_cell__houv9\"]')[4:]:\n",
    "            if jump>0:#Using if condition to skip undesired data\n",
    "                jump-=1\n",
    "                continue\n",
    "            else:\n",
    "                jump=6\n",
    "                Citizenship.append(i.text)#Appending Citizenship of the billionaires\n",
    "    except NoSuchElementException:\n",
    "        Citizenship.append('-')#Appending '-' if data is not found\n",
    "    \n",
    "    try:#handling exceptions\n",
    "        jump=0#Initilizing variable\n",
    "        for i in dr.find_elements(By.XPATH,'//div[@class=\"TableRow_cell__db-hv Table_cell__houv9\"]')[5:]:\n",
    "            if jump>0:#Using if condition to skip undesired data\n",
    "                jump-=1\n",
    "                continue\n",
    "            else:\n",
    "                jump=6\n",
    "                Source.append(i.text)#Appending Source of the billionaires\n",
    "    except NoSuchElementException:\n",
    "        Source.append('-')#Appending '-' if data is not found\n",
    "    \n",
    "    try:#handling exceptions\n",
    "            jump=0#Initilizing variable\n",
    "            for i in dr.find_elements(By.XPATH,'//div[@class=\"Table_dataCell__2QCve\"]')[3:]:\n",
    "                if jump>0: #Using if condition to skip undesired data\n",
    "                    jump-=1\n",
    "                    continue\n",
    "                else:\n",
    "                    jump=3\n",
    "                    Industry.append(i.text)#Appending Industry of the billionaires\n",
    "    except NoSuchElementException:\n",
    "            Industry.append('-') #Appending '-' if data is not found\n",
    "            \n",
    "    try:#handling exceptions\n",
    "        dr.find_element(By.XPATH,'/html/body/div[1]/div[2]/div[3]/div[2]/div[2]/div[2]/div[2]/div[2]/div[1]/button[2]/div/span[2]').click() #Clicking on the next button\n",
    "    except:\n",
    "        continue #Ignore if the next button is not found\n",
    "    \n",
    "    #Adding delay to allow the website to load and update the content\n",
    "    time.sleep(3)\n",
    "    \n",
    "dr.close() #Closing the automated  browser"
   ]
  },
  {
   "cell_type": "code",
   "execution_count": 9,
   "id": "6786b567",
   "metadata": {},
   "outputs": [
    {
     "data": {
      "text/plain": [
       "(2640, 2640, 2640, 2640, 2640, 2640, 2640)"
      ]
     },
     "execution_count": 9,
     "metadata": {},
     "output_type": "execute_result"
    }
   ],
   "source": [
    "len(Source),len(Citizenship),len(Age),len(Net_worth),len(Name),len(Rank),len(Industry)#Checking the length of the data"
   ]
  },
  {
   "cell_type": "markdown",
   "id": "d1f9d430",
   "metadata": {},
   "source": [
    "## Q8"
   ]
  },
  {
   "cell_type": "code",
   "execution_count": 16,
   "id": "fe9b8cff",
   "metadata": {},
   "outputs": [],
   "source": [
    "# Connecting to the driver\n",
    "dr=wd.Chrome(executable_path=driver_path, options=options)\n",
    "#Opening the website on automated brave browser\n",
    "dr.get('https://www.youtube.com/watch?v=48h57PspBec')"
   ]
  },
  {
   "cell_type": "code",
   "execution_count": 17,
   "id": "03eec650",
   "metadata": {},
   "outputs": [],
   "source": [
    "#Auto scrolling in order to load the comments\n",
    "for i in range(1850):\n",
    "    dr.execute_script('window.scrollBy(0,1850)')"
   ]
  },
  {
   "cell_type": "code",
   "execution_count": 18,
   "id": "26be0b75",
   "metadata": {},
   "outputs": [],
   "source": [
    "#Creating empty lists for the required data\n",
    "comments=[] \n",
    "upvote=[] \n",
    "time=[]\n",
    "\n",
    "#Scraping the required data \n",
    "try:#handling exceptions\n",
    "    for i in dr.find_elements(By.XPATH,'//yt-formatted-string[@id=\"content-text\"]')[:511]:#Using slicing to scrape the desired data\n",
    "        comments.append(i.text)\n",
    "except NoSuchElementException:\n",
    "    comments.append('-')#Appending '-' if data is not found\n",
    "\n",
    "try:#handling exceptions\n",
    "    for i in dr.find_elements(By.XPATH,'//span[@id=\"vote-count-middle\"]')[:511]:#Using slicing to scrape the desired data\n",
    "        upvote.append(i.text)\n",
    "except NoSuchElementException:\n",
    "    upvote.append('-')#Appending '-' if data is not found\n",
    "\n",
    "try:#handling exceptions\n",
    "    for i in dr.find_elements(By.XPATH,'//a[@class=\"yt-simple-endpoint style-scope yt-formatted-string\"]')[2:513]:#Using slicing to scrape the desired data\n",
    "        time.append(i.text)\n",
    "except NoSuchElementException:\n",
    "    time.append('-')#Appending '-' if data is not found\n",
    "\n",
    "dr.close() #Closing the automated  browser              "
   ]
  },
  {
   "cell_type": "code",
   "execution_count": 19,
   "id": "54dd5cc2",
   "metadata": {},
   "outputs": [
    {
     "data": {
      "text/plain": [
       "(511, 511, 511)"
      ]
     },
     "execution_count": 19,
     "metadata": {},
     "output_type": "execute_result"
    }
   ],
   "source": [
    "len(time),len(comments),len(upvote)#Checking the length of the data"
   ]
  },
  {
   "cell_type": "markdown",
   "id": "24cbd0bf",
   "metadata": {},
   "source": [
    "## Q9"
   ]
  },
  {
   "cell_type": "code",
   "execution_count": 2,
   "id": "51cdb5ab",
   "metadata": {},
   "outputs": [],
   "source": [
    "# Connecting to the driver\n",
    "dr=wd.Chrome(executable_path=driver_path, options=options)\n",
    "#Opening the website on automated brave browser\n",
    "dr.get('https://www.hostelworld.com/')"
   ]
  },
  {
   "cell_type": "code",
   "execution_count": 8,
   "id": "e5727246",
   "metadata": {},
   "outputs": [],
   "source": [
    "#Sending required keys\n",
    "dr.find_element(By.XPATH,\"/html/body/div[3]/div/div/div[2]/div[2]/div[2]/div/div/div/div[1]/div[1]/div/div[2]/input\").send_keys('London')\n"
   ]
  },
  {
   "cell_type": "code",
   "execution_count": 9,
   "id": "bf04e6a8",
   "metadata": {},
   "outputs": [],
   "source": [
    "dr.find_element(By.XPATH,'/html/body/div[3]/div/div/div[2]/div[2]/div[2]/div/div/div/div[1]/div[2]/div/ul/li[2]/button').click()#Clicking on the london city\n",
    "\n",
    "dr.find_element(By.XPATH,'/html/body/div[3]/div/div/div[2]/div[2]/div[2]/div/div/div/div[5]/button').click() #Clicking on the Let's go button\n",
    "\n",
    "time.sleep(2)#Adding delay to allow the website to load and update the content"
   ]
  },
  {
   "cell_type": "code",
   "execution_count": 22,
   "id": "66db0963",
   "metadata": {},
   "outputs": [],
   "source": [
    "#Creating empty lists for the required data\n",
    "hostel_name=[] \n",
    "distance=[]\n",
    "ratings=[] \n",
    "total_reviews=[] \n",
    "privates_price=[]\n",
    "dorms_price=[]   \n",
    "description=[]\n",
    "h_url=[]"
   ]
  },
  {
   "cell_type": "code",
   "execution_count": 23,
   "id": "d6f44057",
   "metadata": {},
   "outputs": [],
   "source": [
    "#Importing exception\n",
    "from selenium.common.exceptions import ElementClickInterceptedException\n",
    "#Scraping URLS of the hostels\n",
    "for i in range(0,2):\n",
    "    for a in dr.find_elements(By.XPATH,'//a[@class=\"property-card-container horizontal\"]'):\n",
    "        h_url.append(a.get_attribute('href')) #Appending URLs\n",
    "   \n",
    "    #Scraping distance from city centre\n",
    "    try:#Handeling exceptions\n",
    "        for a in dr.find_elements(By.XPATH,'//span[@class=\"distance-description\"]'):\n",
    "            distance.append(a.text)\n",
    "    except NoSuchElementException:\n",
    "        distance.append('-')#Appending '-' if data is not found\n",
    "    \n",
    "    #Clicking on the next page\n",
    "    try:\n",
    "        dr.find_element(By.XPATH,'//button[@class=\"pill-content page-nav nav-right icon-only\"]').click()\n",
    "        time.sleep(3)  #Adding delay to allow the website to load and update the content      \n",
    "    except ElementClickInterceptedException:\n",
    "        continue\n",
    "   \n",
    "   "
   ]
  },
  {
   "cell_type": "code",
   "execution_count": 25,
   "id": "4ca1958f",
   "metadata": {},
   "outputs": [],
   "source": [
    "for i in h_url:#Iterating URLs\n",
    "    dr.get(i)\n",
    "    \n",
    "#Scraping the required data\n",
    "    try:#handling exceptions\n",
    "        hostel_name.append(dr.find_element(By.CLASS_NAME,\"title-2\").text)\n",
    "    except NoSuchElementException:\n",
    "        hostel_name.append('-')#Appending '-' if data is not found\n",
    "    \n",
    "    try:#handling exceptions\n",
    "        ratings.append(dr.find_element(By.CLASS_NAME,\"score orange big\").text)\n",
    "    except NoSuchElementException:\n",
    "        ratings.append('-')#Appending '-' if data is not found\n",
    "    \n",
    "    \n",
    "    try:#handling exceptions\n",
    "        total_reviews.append(dr.find_element(By.CLASS_NAME,\"reviews\").text)\n",
    "    except NoSuchElementException:\n",
    "        total_reviews.append('-')#Appending '-' if data is not found\n",
    "        \n",
    "    try:#handling exceptions\n",
    "        dorms_price.append(dr.find_element(By.XPATH,'//div[@class=\"availability-wrapper\"]/div[2]/div[2]/div/div[2]/div[2]/div/div[1]/div[2]/div[1]').text)\n",
    "    except NoSuchElementException:\n",
    "        dorms_price.append('-')#Appending '-' if data is not found\n",
    "        \n",
    "    try:#handling exceptions\n",
    "        privates_price.append(dr.find_element(By.XPATH,'//div[@class=\"availability-wrapper\"]/div/div[2]/div/div[2]/div[2]/div/div/div[2]/div').text)\n",
    "    except NoSuchElementException:\n",
    "        privates_price.append('-')#Appending '-' if data is not found\n",
    "\n",
    "        \n",
    "    try:#handling exceptions\n",
    "        description.append(dr.find_element(By.XPATH,'//div[@class=\"description-container\"]/div/div[2]').text)\n",
    "    except NoSuchElementException:\n",
    "        description.append('-')#Appending '-' if data is not found\n",
    "        \n",
    "    #Adding delay to allow the website to load and update the content\n",
    "    time.sleep(3) \n",
    "            \n",
    "            \n",
    "dr.close() #Closing the automated  browser\n",
    "        "
   ]
  },
  {
   "cell_type": "code",
   "execution_count": 27,
   "id": "3598e5cf",
   "metadata": {},
   "outputs": [
    {
     "data": {
      "text/plain": [
       "(60, 60, 60, 60, 60, 60, 60)"
      ]
     },
     "execution_count": 27,
     "metadata": {},
     "output_type": "execute_result"
    }
   ],
   "source": [
    "len(description),len(privates_price),len(dorms_price),len(total_reviews),len(ratings),len(hostel_name),len(distance) #Checking the length of the data"
   ]
  }
 ],
 "metadata": {
  "kernelspec": {
   "display_name": "Python 3 (ipykernel)",
   "language": "python",
   "name": "python3"
  },
  "language_info": {
   "codemirror_mode": {
    "name": "ipython",
    "version": 3
   },
   "file_extension": ".py",
   "mimetype": "text/x-python",
   "name": "python",
   "nbconvert_exporter": "python",
   "pygments_lexer": "ipython3",
   "version": "3.10.9"
  }
 },
 "nbformat": 4,
 "nbformat_minor": 5
}
