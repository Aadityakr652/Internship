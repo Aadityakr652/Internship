{
 "cells": [
  {
   "cell_type": "markdown",
   "id": "244a83e4",
   "metadata": {},
   "source": [
    "# PYTHON – WORKSHEET 1"
   ]
  },
  {
   "cell_type": "code",
   "execution_count": null,
   "id": "6010287f",
   "metadata": {},
   "outputs": [],
   "source": [
    "#Q11:\n",
    "\n",
    "def factorial():\n",
    "        n = int(input(\"Please enter a number: \"))\n",
    "        f = 1\n",
    "        for i in range(1, n + 1):\n",
    "            f *= i\n",
    "        print(\"Factorial of\", n, \"is\", f)\n",
    "factorial()\n"
   ]
  },
  {
   "cell_type": "code",
   "execution_count": null,
   "id": "645da36b",
   "metadata": {},
   "outputs": [],
   "source": [
    "#Q12:\n",
    "\n",
    "\n",
    "n = int(input(\"Please enter a number: \"))\n",
    "\n",
    "if n <= 1:\n",
    "    print(n, \"is neither prime nor composite.\")\n",
    "else:\n",
    "    a = False\n",
    "    for i in range(2, int(n**0.5) + 1):\n",
    "        if n % i == 0:\n",
    "            a = True\n",
    "            break\n",
    "\n",
    "    if a:\n",
    "        print(n, \"is a composite number.\")\n",
    "    else:\n",
    "        print(n, \"is a prime number.\")\n",
    "            \n",
    "        \n",
    "\n"
   ]
  },
  {
   "cell_type": "code",
   "execution_count": null,
   "id": "7eaa652e",
   "metadata": {},
   "outputs": [],
   "source": [
    "#Q13\n",
    "\n",
    "def f1():\n",
    "    str_ = str(input(\"Please enter a string: \"))\n",
    "    \n",
    "    str_= ''.join(char.lower() for char in str_ if char.isalnum())\n",
    "    str_p = str_[::-1]\n",
    "    if str_==str_p:\n",
    "        print(\"The string is a palindrome.\")\n",
    "    else:\n",
    "        print(\"The string is not a palindrome.\")\n",
    "f1()\n",
    "\n"
   ]
  },
  {
   "cell_type": "code",
   "execution_count": null,
   "id": "9948e9ab",
   "metadata": {},
   "outputs": [],
   "source": [
    "#Q14\n",
    "\n",
    "\n",
    "a=int(input(\"Please enter 1st side: \"))\n",
    "b=int(input(\"Please enter 2st side: \"))\n",
    "c=((a**2)+(b**2))**(1/2)\n",
    "print('3rd side is ',c)"
   ]
  },
  {
   "cell_type": "code",
   "execution_count": null,
   "id": "0db7b369",
   "metadata": {},
   "outputs": [],
   "source": [
    "def fn2():\n",
    "    str1 = str(input(\"Please enter a string: \"))\n",
    "    f = {}\n",
    "    \n",
    "    for i in str1:\n",
    "        if i in f:\n",
    "            f[i] += 1\n",
    "        else:\n",
    "            f[i] = 1\n",
    "    \n",
    "    print(\"Character frequencies: \") \n",
    "    for i, f2 in f.items():\n",
    "        print(i, \":\", f2)\n",
    "fn2()\n",
    "\n"
   ]
  }
 ],
 "metadata": {
  "kernelspec": {
   "display_name": "Python 3 (ipykernel)",
   "language": "python",
   "name": "python3"
  },
  "language_info": {
   "codemirror_mode": {
    "name": "ipython",
    "version": 3
   },
   "file_extension": ".py",
   "mimetype": "text/x-python",
   "name": "python",
   "nbconvert_exporter": "python",
   "pygments_lexer": "ipython3",
   "version": "3.10.9"
  }
 },
 "nbformat": 4,
 "nbformat_minor": 5
}
