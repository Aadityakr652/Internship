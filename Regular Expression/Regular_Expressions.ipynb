{
 "cells": [
  {
   "cell_type": "markdown",
   "id": "ce3d7792",
   "metadata": {},
   "source": [
    "## Regular Expressions"
   ]
  },
  {
   "cell_type": "code",
   "execution_count": 1,
   "id": "e6088c7f",
   "metadata": {},
   "outputs": [],
   "source": [
    "import re #Imporint Regex library"
   ]
  },
  {
   "cell_type": "markdown",
   "id": "2c816965",
   "metadata": {},
   "source": [
    "## Q1"
   ]
  },
  {
   "cell_type": "code",
   "execution_count": 2,
   "id": "48146ee3",
   "metadata": {},
   "outputs": [
    {
     "name": "stdout",
     "output_type": "stream",
     "text": [
      "This string contains the specified characters\n"
     ]
    }
   ],
   "source": [
    "pattern=r'^[A-Za-z0-9]+$' #Creating a pattern\n",
    "\n",
    "string='Ihave10Apples' #String\n",
    "\n",
    "check=re.search(pattern,string)#Testing the string using Regex\n",
    "\n",
    "if check is None:#Using if and else to print the desired output  \n",
    "    print('This string does not contains the specified characters')\n",
    "else:\n",
    "    print('This string contains the specified characters')"
   ]
  },
  {
   "cell_type": "markdown",
   "id": "ac8c092f",
   "metadata": {},
   "source": [
    "## Q2"
   ]
  },
  {
   "cell_type": "code",
   "execution_count": 3,
   "id": "9a01851b",
   "metadata": {},
   "outputs": [
    {
     "name": "stdout",
     "output_type": "stream",
     "text": [
      "This string contains zero or more b's at the end\n"
     ]
    }
   ],
   "source": [
    "def q2(s):#Creating a function named q2\n",
    "    \n",
    "    s=str(s)#Typecasting s variable into string variable\n",
    "    \n",
    "    pattern=r'b*$' #Creating a pattern\n",
    "    \n",
    "    check=re.search(pattern,s)#Testing the string using Regex\n",
    "    \n",
    "    if check is None:#Using if and else to print the desired output  \n",
    "        print(\"This string does not contains zero or more b's at the end\")\n",
    "    else:\n",
    "        print(\"This string contains zero or more b's at the end\")    \n",
    "\n",
    "q2('asf') #Calling the function"
   ]
  },
  {
   "cell_type": "markdown",
   "id": "ad5a0840",
   "metadata": {},
   "source": [
    "## Q3"
   ]
  },
  {
   "cell_type": "code",
   "execution_count": 4,
   "id": "307f42bc",
   "metadata": {},
   "outputs": [
    {
     "name": "stdout",
     "output_type": "stream",
     "text": [
      "This string does not contains one or more b's at the end\n"
     ]
    }
   ],
   "source": [
    "def q3(s):#Creating a function named q3\n",
    "    \n",
    "    s=str(s)#Typecasting s variable into string variable\n",
    "    \n",
    "    pattern=r'b+$' #Creating a pattern\n",
    "    \n",
    "    check=re.search(pattern,s)#Testing the string using Regex\n",
    "    \n",
    "    if check is None:#Using if and else to print the desired output  \n",
    "        print(\"This string does not contains one or more b's at the end\")\n",
    "    else:\n",
    "        print(\"This string contains one or more b's at the end\")    \n",
    "\n",
    "q3('acm') #Calling the function   "
   ]
  },
  {
   "cell_type": "markdown",
   "id": "df5e3a53",
   "metadata": {},
   "source": [
    "## Q4"
   ]
  },
  {
   "cell_type": "code",
   "execution_count": 5,
   "id": "517187e9",
   "metadata": {},
   "outputs": [
    {
     "name": "stdout",
     "output_type": "stream",
     "text": [
      "This string does not contains zero or one 'b' at the end\n"
     ]
    }
   ],
   "source": [
    "def q4(s):#Creating a function named q4\n",
    "    \n",
    "    s=str(s)#Typecasting s variable into string variable\n",
    "    \n",
    "    pattern=r'^[^b]*b?$' #Creating a pattern\n",
    "    \n",
    "    check=re.search(pattern,s)#Testing the string using Regex\n",
    "    \n",
    "    if check is None:#Using if and else to print the desired output  \n",
    "        print(\"This string does not contains zero or one 'b' at the end\")\n",
    "    else:\n",
    "        print(\"This string contains zero or one 'b' at the end\")    \n",
    "\n",
    "q4('acmbbb') #Calling the function   "
   ]
  },
  {
   "cell_type": "markdown",
   "id": "6a5b1388",
   "metadata": {},
   "source": [
    "## Q5"
   ]
  },
  {
   "cell_type": "code",
   "execution_count": 6,
   "id": "61fc2903",
   "metadata": {},
   "outputs": [
    {
     "name": "stdout",
     "output_type": "stream",
     "text": [
      "This string contains three 'b' at the end\n"
     ]
    }
   ],
   "source": [
    "string='acmbbb' #String\n",
    "\n",
    "pattern=r'b{3}$' #Creating a pattern\n",
    "\n",
    "check=re.search(pattern,string)#Testing the string using Regex\n",
    "\n",
    "if check is None:#Using if and else to print the desired output  \n",
    "    print(\"This string does not contains three 'b' at the end\")\n",
    "else:\n",
    "    print(\"This string contains three 'b' at the end\")        "
   ]
  },
  {
   "cell_type": "markdown",
   "id": "29ff3f1f",
   "metadata": {},
   "source": [
    "## Q6"
   ]
  },
  {
   "cell_type": "code",
   "execution_count": 7,
   "id": "999791bc",
   "metadata": {},
   "outputs": [
    {
     "name": "stdout",
     "output_type": "stream",
     "text": [
      "['Importance', 'Of', 'Regular', 'Expressions', 'In', 'Python']\n"
     ]
    }
   ],
   "source": [
    "string=\"ImportanceOfRegularExpressionsInPython\" #String\n",
    "\n",
    "pattern=r'[A-Z][a-z]*' #Creating a pattern\n",
    "\n",
    "#Testing the string using Regex\n",
    "print(re.findall(pattern,string))#Printing"
   ]
  },
  {
   "cell_type": "markdown",
   "id": "848e2b72",
   "metadata": {},
   "source": [
    "## Q7"
   ]
  },
  {
   "cell_type": "code",
   "execution_count": 8,
   "id": "aafc5b9b",
   "metadata": {},
   "outputs": [
    {
     "name": "stdout",
     "output_type": "stream",
     "text": [
      "This string contains two to three 'b' at the end\n"
     ]
    }
   ],
   "source": [
    "string=\"aabb\" #String\n",
    "\n",
    "pattern=r'^[^b]*b{2,3}$' #Creating a pattern\n",
    "\n",
    "check=re.search(pattern,string)#Testing the string using Regex\n",
    "\n",
    "\n",
    "if check is None:#Using if and else to print the desired output  \n",
    "    print(\"This string does not contains two to three 'b' at the end\")\n",
    "else:\n",
    "    print(\"This string contains two to three 'b' at the end\")  "
   ]
  },
  {
   "cell_type": "markdown",
   "id": "b466a02b",
   "metadata": {},
   "source": [
    "## Q8"
   ]
  },
  {
   "cell_type": "code",
   "execution_count": 9,
   "id": "1060306f",
   "metadata": {},
   "outputs": [
    {
     "name": "stdout",
     "output_type": "stream",
     "text": [
      "['f_o_u_r', 'i_v_e', 'ight_ni']\n"
     ]
    }
   ],
   "source": [
    "string=\"_One_TWO_THREE_f_o_u_r_F_i_v_e_SeVE_n_Eight_niNe\" #String\n",
    "\n",
    "pattern=r'[a-z]+(?:_[a-z]+)+' #Creating a pattern\n",
    "\n",
    "check=re.findall(pattern,string)#Testing the string using Regex\n",
    "\n",
    "if check==[]:#Using if and else to print the desired output  \n",
    "    print(\"This string does not contians sequences of lowercase letters joined with a underscore.\")\n",
    "else:\n",
    "    print(check)#Printing\n"
   ]
  },
  {
   "cell_type": "markdown",
   "id": "32dd22b1",
   "metadata": {},
   "source": [
    "## Q9"
   ]
  },
  {
   "cell_type": "code",
   "execution_count": 10,
   "id": "eae0d64a",
   "metadata": {},
   "outputs": [
    {
     "name": "stdout",
     "output_type": "stream",
     "text": [
      "This string  has an 'a' followed by anything, ending in 'b'\n"
     ]
    }
   ],
   "source": [
    "string=\"abcdefghb\" #String\n",
    "\n",
    "pattern=r'^a.*b$' #Creating a pattern\n",
    "\n",
    "check=re.search(pattern,string)#Testing the string using Regex \n",
    "\n",
    "if check==None:\n",
    "    print(\"This string does not has an 'a' followed by anything, ending in 'b'.\")\n",
    "else:\n",
    "    print(\"This string  has an 'a' followed by anything, ending in 'b'\")"
   ]
  },
  {
   "cell_type": "markdown",
   "id": "414bc213",
   "metadata": {},
   "source": [
    "## Q10"
   ]
  },
  {
   "cell_type": "code",
   "execution_count": 11,
   "id": "44faa380",
   "metadata": {},
   "outputs": [
    {
     "name": "stdout",
     "output_type": "stream",
     "text": [
      "This string  matches required word at the beginning of a string.\n"
     ]
    }
   ],
   "source": [
    "string=\"Water is a liquid\" #String\n",
    "\n",
    "pattern=r'Water' #Creating a pattern\n",
    "\n",
    "check=re.match(pattern,string)#Testing the string using Regex\n",
    "\n",
    "if check==None: #Using if and else to print the desired output  \n",
    "    print(\"This string does not matches required word at the beginning of a string.\")\n",
    "else:\n",
    "    print(\"This string  matches required word at the beginning of a string.\")"
   ]
  },
  {
   "cell_type": "markdown",
   "id": "dc8befc0",
   "metadata": {},
   "source": [
    "## Q11"
   ]
  },
  {
   "cell_type": "code",
   "execution_count": 12,
   "id": "affaaa8a",
   "metadata": {},
   "outputs": [
    {
     "name": "stdout",
     "output_type": "stream",
     "text": [
      "This string does not contains only upper and lowercase letters, numbers, and underscores.\n"
     ]
    }
   ],
   "source": [
    "string=\" Waterisaliquid_H20\" #String\n",
    "\n",
    "pattern=r'^\\w+$' #Creating a pattern \n",
    "\n",
    "check=re.search(pattern,string)#Testing the string using Regex\n",
    "\n",
    "if check==None: #Using if and else to print the desired output  \n",
    "    print(\"This string does not contains only upper and lowercase letters, numbers, and underscores.\")\n",
    "else:\n",
    "    print(\"This string contains only upper and lowercase letters, numbers, and underscores.\")"
   ]
  },
  {
   "cell_type": "markdown",
   "id": "efb37e5c",
   "metadata": {},
   "source": [
    "## Q12"
   ]
  },
  {
   "cell_type": "code",
   "execution_count": 13,
   "id": "19c2270e",
   "metadata": {},
   "outputs": [
    {
     "name": "stdout",
     "output_type": "stream",
     "text": [
      "This string starts with a specific number.\n"
     ]
    }
   ],
   "source": [
    "string=\"007 is a number referred to James Bond.\" #String\n",
    "\n",
    "pattern=r'^007'#Creating a pattern which starts with 007 number\n",
    "\n",
    "check=re.search(pattern,string)#Testing the string using Regex\n",
    "\n",
    "if check==None:#Using if and else to print the desired output  \n",
    "    print(\"This string does not start with a specific number.\")\n",
    "else:\n",
    "    print(\"This string starts with a specific number.\")"
   ]
  },
  {
   "cell_type": "markdown",
   "id": "9796cfcf",
   "metadata": {},
   "source": [
    "## Q13"
   ]
  },
  {
   "cell_type": "code",
   "execution_count": 14,
   "id": "9a20761a",
   "metadata": {},
   "outputs": [
    {
     "name": "stdout",
     "output_type": "stream",
     "text": [
      "100.0.22.203\n"
     ]
    }
   ],
   "source": [
    "string=\"100.00.022.203\" #String\n",
    "\n",
    "pattern=r'\\.0+(\\d+)' #Creating a pattern\n",
    "\n",
    "r_=re.sub(pattern,r'.\\1',string)#Replacing the string using Regex\n",
    "\n",
    "print(r_)#Printing "
   ]
  },
  {
   "cell_type": "markdown",
   "id": "012b91ee",
   "metadata": {},
   "source": [
    "## Q14"
   ]
  },
  {
   "cell_type": "code",
   "execution_count": 15,
   "id": "58d86770",
   "metadata": {},
   "outputs": [
    {
     "name": "stdout",
     "output_type": "stream",
     "text": [
      "August 15th 1947\n"
     ]
    }
   ],
   "source": [
    "with open(r\"D:\\Files\\temp.txt\") as file: #Opening the text file\n",
    "    \n",
    "    for i in file: #Iterating the file\n",
    "        \n",
    "        pattern='[A-Z][a-z]+\\s[0-9]{1,2}[a-z]*\\s[0-9]+'#Creating a pattern\n",
    "        \n",
    "        r_=re.search(pattern,i)#Testing the string using Regex\n",
    "\n",
    "print(r_.group())#Printing"
   ]
  },
  {
   "cell_type": "markdown",
   "id": "ca1317dc",
   "metadata": {},
   "source": [
    "## Q15"
   ]
  },
  {
   "cell_type": "code",
   "execution_count": 16,
   "id": "cf699b89",
   "metadata": {},
   "outputs": [
    {
     "name": "stdout",
     "output_type": "stream",
     "text": [
      "['fox', 'dog']\n"
     ]
    }
   ],
   "source": [
    "string='The quick brown fox jumps over the lazy dog.' #String\n",
    "\n",
    "pattern=r'fox|dog|horse' #Creating a pattern\n",
    "\n",
    "r_=re.findall(pattern,string)#Testing the string using Regex\n",
    "\n",
    "print(r_)"
   ]
  },
  {
   "cell_type": "markdown",
   "id": "24c7ebc4",
   "metadata": {},
   "source": [
    "## Q16"
   ]
  },
  {
   "cell_type": "code",
   "execution_count": 17,
   "id": "a97048fb",
   "metadata": {},
   "outputs": [
    {
     "name": "stdout",
     "output_type": "stream",
     "text": [
      "Word: fox \n",
      "Position: 16\n"
     ]
    }
   ],
   "source": [
    "string='The quick brown fox jumps over the lazy dog.' #String\n",
    "\n",
    "pattern='fox' #Creating a pattern\n",
    "\n",
    "r_=re.search(pattern,string)#Testing the string using Regex\n",
    "\n",
    "print('Word:',r_.group(),'\\nPosition:',r_.start()) #Printing"
   ]
  },
  {
   "cell_type": "markdown",
   "id": "d372f674",
   "metadata": {},
   "source": [
    "## Q17"
   ]
  },
  {
   "cell_type": "code",
   "execution_count": 18,
   "id": "4f6f500f",
   "metadata": {},
   "outputs": [
    {
     "name": "stdout",
     "output_type": "stream",
     "text": [
      "['exercises', 'exercises', 'exercises']\n"
     ]
    }
   ],
   "source": [
    "text='Python exercises, PHP exercises, C# exercises' #String\n",
    "\n",
    "pattern='exercises' #Creating a pattern\n",
    "\n",
    "r_=re.findall(pattern,text)#Testing the string using Regex\n",
    "\n",
    "print(r_)"
   ]
  },
  {
   "cell_type": "markdown",
   "id": "acce8665",
   "metadata": {},
   "source": [
    "## Q18"
   ]
  },
  {
   "cell_type": "code",
   "execution_count": 19,
   "id": "abc05bfe",
   "metadata": {},
   "outputs": [
    {
     "name": "stdout",
     "output_type": "stream",
     "text": [
      "Match: down, Occurrence: 2, Positions: [16, 23]\n",
      "Match: path, Occurrence: 2, Positions: [77, 83]\n"
     ]
    }
   ],
   "source": [
    "text=\"The rain poured down , down from the  dark clouds, soaking everything in its path, path, as thunder rumbled in the distance.\"\n",
    "\n",
    "pattern=r'down|path' # Creating a pattern\n",
    "\n",
    "matches=re.finditer(pattern, text)  # Testing the string using Regex\n",
    "\n",
    "tracker=None# Initializing the variable\n",
    "positions=[]# Creating a list to store positions of the matches\n",
    "counter=0  # Initializing the variable\n",
    "\n",
    "for i in matches:#Iterating matches\n",
    "    if i.group()!=tracker: #Using nested if to achieve desired output\n",
    "        if tracker!=None:\n",
    "            print(f\"Match: {tracker}, Occurrence: {counter}, Positions: {positions}\") #Printing match if it does not iterate in the loop\n",
    "        tracker=i.group()#Assinging i to tracker variable\n",
    "        \n",
    "        #Reseting the values\n",
    "        counter=0\n",
    "        positions=[]\n",
    "\n",
    "    counter+=1#Increasing the counter by 1\n",
    "    positions.append(i.start())#Appending positions\n",
    "\n",
    "# Printing last match after the loop\n",
    "if tracker!=None:\n",
    "    print(f\"Match: {tracker}, Occurrence: {counter}, Positions: {positions}\")"
   ]
  },
  {
   "cell_type": "markdown",
   "id": "e506a7ad",
   "metadata": {},
   "source": [
    "## Q19"
   ]
  },
  {
   "cell_type": "code",
   "execution_count": 20,
   "id": "74cf8bb8",
   "metadata": {},
   "outputs": [
    {
     "name": "stdout",
     "output_type": "stream",
     "text": [
      "12-03-2023\n"
     ]
    }
   ],
   "source": [
    "date='2023-03-12' #String\n",
    "\n",
    "pattern_y=r'^\\d+' #Creating a pattern for year\n",
    "\n",
    "pattern_d=r'\\d+$' #Creating a pattern for day\n",
    "\n",
    "year=re.search(pattern_y,date) #Capturing year\n",
    "\n",
    "day=re.search(pattern_d,date) #Capturing day\n",
    "\n",
    "#Replacing date and year with each other\n",
    "new_date=re.sub(pattern_y,day.group(),date) \n",
    "\n",
    "new_date=re.sub(pattern_d,year.group(),new_date)\n",
    "\n",
    "print(new_date) #Printing"
   ]
  },
  {
   "cell_type": "markdown",
   "id": "9bec7812",
   "metadata": {},
   "source": [
    "## Q20"
   ]
  },
  {
   "cell_type": "code",
   "execution_count": 21,
   "id": "6b2e1fa2",
   "metadata": {},
   "outputs": [
    {
     "name": "stdout",
     "output_type": "stream",
     "text": [
      "['eating', 'an', 'apple', 'enjoyed', 'a', 'evening']\n"
     ]
    }
   ],
   "source": [
    "string='After eating an apple, Emily enjoyed a refreshing evening stroll.' #String\n",
    "\n",
    "pattern=r'\\ba[A-z]*|\\be[A-z]*' #Creating a pattern\n",
    "\n",
    "words=re.findall(pattern,string) #Testing the string using Regex\n",
    "\n",
    "print(words) #Printing"
   ]
  },
  {
   "cell_type": "markdown",
   "id": "ef4ad3e1",
   "metadata": {},
   "source": [
    "## Q21"
   ]
  },
  {
   "cell_type": "code",
   "execution_count": 22,
   "id": "6c3ce4a2",
   "metadata": {},
   "outputs": [
    {
     "name": "stdout",
     "output_type": "stream",
     "text": [
      "Number:10, Position:7\n",
      "Number:5, Position:18\n",
      "Number:3, Position:33\n"
     ]
    }
   ],
   "source": [
    "string='I have 10 apples, 5 oranges, and 3 bananas.' #String\n",
    "\n",
    "pattern=r'\\d+'#Creating a pattern\n",
    "\n",
    "r_=re.finditer(pattern,string) #Testing the string using Regex\n",
    "\n",
    "for i in r_:#Iterating r_ variable\n",
    "    print(f\"Number:{i.group()}, Position:{i.start()}\")#Printing"
   ]
  },
  {
   "cell_type": "markdown",
   "id": "9de659ad",
   "metadata": {},
   "source": [
    "## Q22"
   ]
  },
  {
   "cell_type": "code",
   "execution_count": 23,
   "id": "b2eb33f3",
   "metadata": {},
   "outputs": [
    {
     "name": "stdout",
     "output_type": "stream",
     "text": [
      "992\n"
     ]
    }
   ],
   "source": [
    "string='22,23,24,99,1,992,0,589,apple' #String\n",
    "\n",
    "pattern=r'\\d+' #Creating a pattern\n",
    "\n",
    "r_=re.findall(pattern,string) #Testing the string using Regex\n",
    "\n",
    "print(max(r_)) #Using max function and printing"
   ]
  },
  {
   "cell_type": "markdown",
   "id": "8551420c",
   "metadata": {},
   "source": [
    "## Q23"
   ]
  },
  {
   "cell_type": "code",
   "execution_count": 24,
   "id": "705f76fb",
   "metadata": {
    "scrolled": true
   },
   "outputs": [
    {
     "name": "stdout",
     "output_type": "stream",
     "text": [
      "Today Is A Sunny Day.\n"
     ]
    }
   ],
   "source": [
    "string='TodayIsASunnyDay.'#String\n",
    "\n",
    "pattern=r'[A-Z]'  # Match uppercase letters preceded by a lowercase letter (non-capturing group)\n",
    "\n",
    "r_=re.sub(pattern,lambda x:' '+x.group(),string) #Replacing the string using Regex via lambda function\n",
    "r_=re.sub('^\\s+','',r_)#Removing spaces at the start\n",
    "\n",
    "print(r_)"
   ]
  },
  {
   "cell_type": "markdown",
   "id": "322e929c",
   "metadata": {},
   "source": [
    "## Q24"
   ]
  },
  {
   "cell_type": "code",
   "execution_count": 25,
   "id": "5b403600",
   "metadata": {},
   "outputs": [
    {
     "name": "stdout",
     "output_type": "stream",
     "text": [
      "['Went', 'Walk', 'And', 'Joyed', 'Beautiful']\n"
     ]
    }
   ],
   "source": [
    "string='I Went for a Walk in the park And enJoyed the Beautiful weather.'#String\n",
    "\n",
    "pattern=r'[A-Z][a-z]+' #Creating a pattern\n",
    "\n",
    "#Testing the string using Regex\n",
    "print(re.findall(pattern,string))#Printing"
   ]
  },
  {
   "cell_type": "markdown",
   "id": "c80be96f",
   "metadata": {},
   "source": [
    "## Q25"
   ]
  },
  {
   "cell_type": "code",
   "execution_count": 26,
   "id": "804974ae",
   "metadata": {},
   "outputs": [
    {
     "name": "stdout",
     "output_type": "stream",
     "text": [
      "Blue is a color.\n"
     ]
    }
   ],
   "source": [
    "string='Blue is is a color.'#String\n",
    "\n",
    "pattern=r'(\\b\\w+)(?:\\W+\\1\\b)' #Creating a pattern\n",
    "\n",
    "#Testing the string using Regex\n",
    "print(re.sub(pattern,r'\\1',string)) #Printing"
   ]
  },
  {
   "cell_type": "markdown",
   "id": "6ef56395",
   "metadata": {},
   "source": [
    "## Q26"
   ]
  },
  {
   "cell_type": "code",
   "execution_count": 27,
   "id": "ee509299",
   "metadata": {},
   "outputs": [
    {
     "name": "stdout",
     "output_type": "stream",
     "text": [
      "Please enter a string: String*\n",
      "This program only accpets string ending with alphanumeric character.\n"
     ]
    }
   ],
   "source": [
    "string=input(str(\"Please enter a string: \")) #String\n",
    "\n",
    "pattern=r'^.+[A-z]+$|^.+[0-9]+$' #Creating a pattern\n",
    "\n",
    "r_=re.match(pattern,string) #Testing the string using Regex\n",
    "\n",
    "if r_== None: #Using if and else to print the desired output\n",
    "    print(\"This program only accpets string ending with alphanumeric character.\")\n",
    "else :\n",
    "    print(\"String accepted\")"
   ]
  },
  {
   "cell_type": "markdown",
   "id": "b6aeca61",
   "metadata": {},
   "source": [
    "## Q27"
   ]
  },
  {
   "cell_type": "code",
   "execution_count": 28,
   "id": "dcc41c02",
   "metadata": {},
   "outputs": [
    {
     "name": "stdout",
     "output_type": "stream",
     "text": [
      "['#Doltiwal', '#xyzabc', '#Demonetization']\n"
     ]
    }
   ],
   "source": [
    "text=\"\"\"RT @kapil_kausik: #Doltiwal I mean #xyzabc is \"hurt\" by #Demonetization as the same has rendered USELESS <ed><U+00A0><U+00BD><ed><U+00B1><U+0089> \"acquired funds\" No wo\"\"\" #String\n",
    "\n",
    "pattern=r'#\\w+'#Creating a pattern\n",
    "\n",
    "hashtags=re.findall(pattern,text) #Testing the string using Regex\n",
    "\n",
    "print(hashtags) #Printing"
   ]
  },
  {
   "cell_type": "markdown",
   "id": "44a2da11",
   "metadata": {},
   "source": [
    "## Q28"
   ]
  },
  {
   "cell_type": "code",
   "execution_count": 29,
   "id": "3dd96de7",
   "metadata": {},
   "outputs": [
    {
     "name": "stdout",
     "output_type": "stream",
     "text": [
      "@Jags123456 Bharat band on 28??<ed><ed>Those who are protesting #demonetization are all different party leaders\n"
     ]
    }
   ],
   "source": [
    "text = \"@Jags123456 Bharat band on 28??<ed><U+00A0><U+00BD><ed><U+00B8><U+0082>Those who are protesting #demonetization are all different party leaders\"#String\n",
    "\n",
    "pattern = r'<U.{5}>' #Creating a pattern\n",
    "\n",
    "new_text=re.sub(pattern,'', text) #Testing the string using Regex\n",
    "\n",
    "print(new_text)#Printing"
   ]
  },
  {
   "cell_type": "markdown",
   "id": "a98fb7da",
   "metadata": {},
   "source": [
    "## Q29"
   ]
  },
  {
   "cell_type": "code",
   "execution_count": 30,
   "id": "7f7b091c",
   "metadata": {},
   "outputs": [
    {
     "name": "stdout",
     "output_type": "stream",
     "text": [
      "['12-09-1992', '15-12-1999']\n"
     ]
    }
   ],
   "source": [
    "text=\"Ron was born on 12-09-1992 and he was admitted to school 15-12-1999.\"#String\n",
    "\n",
    "with open(r'D:\\Files\\temp2.txt','w') as file: #Creating a text file at the desired location\n",
    "    \n",
    "    file.write(text)#Writing  contents\n",
    "\n",
    "file.close() #Closing the file\n",
    "\n",
    "with open(r'D:\\Files\\temp2.txt') as read:#Reading the file\n",
    "    \n",
    "    for i in read:#Iterating the file\n",
    "        \n",
    "        pattern=r'\\d+-\\d+-\\d+' #Creating a pattern\n",
    "        \n",
    "        #Testing the string using Regex\n",
    "        print(re.findall(pattern,i))#Printing\n"
   ]
  },
  {
   "cell_type": "markdown",
   "id": "c4e6bd75",
   "metadata": {},
   "source": [
    "## Q30"
   ]
  },
  {
   "cell_type": "code",
   "execution_count": 31,
   "id": "f12b7eb7",
   "metadata": {},
   "outputs": [
    {
     "name": "stdout",
     "output_type": "stream",
     "text": [
      "Python:Exercises::PHP:exercises:\n"
     ]
    }
   ],
   "source": [
    "Text='Python Exercises, PHP exercises.'#String\n",
    "\n",
    "pattern=r'\\.+|\\s+|,+' #Creating a pattern\n",
    "\n",
    "#Replacing the string using regex\n",
    "print(re.sub(pattern,':',Text)) #Printing"
   ]
  }
 ],
 "metadata": {
  "kernelspec": {
   "display_name": "Python 3 (ipykernel)",
   "language": "python",
   "name": "python3"
  },
  "language_info": {
   "codemirror_mode": {
    "name": "ipython",
    "version": 3
   },
   "file_extension": ".py",
   "mimetype": "text/x-python",
   "name": "python",
   "nbconvert_exporter": "python",
   "pygments_lexer": "ipython3",
   "version": "3.10.9"
  }
 },
 "nbformat": 4,
 "nbformat_minor": 5
}
